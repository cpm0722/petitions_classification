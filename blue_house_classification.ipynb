{
 "cells": [
  {
   "cell_type": "code",
   "execution_count": 1,
   "metadata": {},
   "outputs": [],
   "source": [
    "import os\n",
    "import re\n",
    "import numpy as np\n",
    "import pandas as pd\n",
    "\n",
    "import torch\n",
    "import torch.nn as nn\n",
    "import torch.nn.functional as F\n",
    "\n",
    "#from torch.utils.data.dataset import Dataset\n",
    "\n",
    "#import torchtext\n",
    "#from torchtext import data\n",
    "\n",
    "import gluonnlp as nlp\n",
    "\n",
    "import transformers\n",
    "from transformers import AdamW\n",
    "from transformers import AutoTokenizer\n",
    "from transformers import AutoModel\n",
    "\n",
    "import kobert.pytorch_kobert\n",
    "import kobert.utils"
   ]
  },
  {
   "cell_type": "code",
   "execution_count": 2,
   "metadata": {},
   "outputs": [
    {
     "name": "stdout",
     "output_type": "stream",
     "text": [
      "cuda:0\n"
     ]
    }
   ],
   "source": [
    "device = torch.device(\"cuda:0\")\n",
    "print(device)"
   ]
  },
  {
   "cell_type": "markdown",
   "metadata": {},
   "source": [
    "# vocab, tokenizer"
   ]
  },
  {
   "cell_type": "code",
   "execution_count": 3,
   "metadata": {},
   "outputs": [
    {
     "name": "stdout",
     "output_type": "stream",
     "text": [
      "using cached model\n",
      "using cached model\n"
     ]
    }
   ],
   "source": [
    "#vocab 획득\n",
    "_, vocab = kobert.pytorch_kobert.get_pytorch_kobert_model()"
   ]
  },
  {
   "cell_type": "code",
   "execution_count": 4,
   "metadata": {},
   "outputs": [
    {
     "name": "stdout",
     "output_type": "stream",
     "text": [
      "using cached model\n"
     ]
    }
   ],
   "source": [
    "#tokenizer 획득\n",
    "tokenizer_path = kobert.utils.get_tokenizer()\n",
    "tokenizer = nlp.data.BERTSPTokenizer(tokenizer_path, vocab, lower=False)\n",
    "max_input_length = 512"
   ]
  },
  {
   "cell_type": "code",
   "execution_count": null,
   "metadata": {},
   "outputs": [],
   "source": [
    "#huggingface kobert tokenizer 획득\n",
    "#tokenizer = AutoTokenizer.from_pretrained(\"monologg/kobert-lm\")\n",
    "#max_input_length = 512"
   ]
  },
  {
   "cell_type": "markdown",
   "metadata": {},
   "source": [
    "# Pandas Dataset"
   ]
  },
  {
   "cell_type": "code",
   "execution_count": 33,
   "metadata": {},
   "outputs": [],
   "source": [
    "#pandas dataset\n",
    "train = pd.read_csv('./train.csv', keep_default_na=False)\n",
    "test = pd.read_csv('./test.csv', keep_default_na=False)\n",
    "sample_submission = pd.read_csv('./sample_submission.csv')"
   ]
  },
  {
   "cell_type": "code",
   "execution_count": 34,
   "metadata": {},
   "outputs": [],
   "source": [
    "#preprocessing\n",
    "train = train.dropna(how='any')\n",
    "train['data'] = train['data'].str.replace(\"[^.,ㄱ-ㅎㅏ-ㅣ가-힣 ]\", \"\")\n",
    "test['data'] = test['data'].str.replace(\"[^.,ㄱ-ㅎㅏ-ㅣ가-힣 ]\", \"\")"
   ]
  },
  {
   "cell_type": "code",
   "execution_count": 26,
   "metadata": {},
   "outputs": [],
   "source": [
    "def encode_data(data_df, max_length, isTest=False):\n",
    "    \n",
    "    tokens = []\n",
    "    valid_lengths = []\n",
    "    labels = []\n",
    "    transform = nlp.data.BERTSentenceTransform(tokenizer, max_seq_length=max_length, pad=False, pair=False)\n",
    "     \n",
    "    for i in range(len(data_df['data'])):\n",
    "        \n",
    "        if len(data_df['data'][i]) != 0:\n",
    "            token = tokenizer.convert_tokens_to_ids(tokenizer(data_df['data'][i]))\n",
    "            \n",
    "            if len(token) > 512:\n",
    "                token = token[:512]\n",
    "            \n",
    "            valid_length = len(token)\n",
    "            \n",
    "            token += [1] * (max_length - valid_length)\n",
    "            \n",
    "            if isTest==False:\n",
    "                label = data_df['category'][i]\n",
    "\n",
    "            tokens.append(token)\n",
    "            valid_lengths.append(valid_length)\n",
    "            \n",
    "            if isTest==False:\n",
    "                labels.append(label)\n",
    "                \n",
    "        if (i+1) % 1000 == 0:\n",
    "            print(\"%05d/%05d finish\" % (i+1, len(data_df['data'])))\n",
    "            \n",
    "    if isTest==False:\n",
    "        return tokens, valid_lengths, labels \n",
    "    else:\n",
    "        return tokens, valid_lengths"
   ]
  },
  {
   "cell_type": "code",
   "execution_count": 36,
   "metadata": {},
   "outputs": [
    {
     "name": "stdout",
     "output_type": "stream",
     "text": [
      "01000/40000 finish\n",
      "02000/40000 finish\n",
      "03000/40000 finish\n",
      "04000/40000 finish\n",
      "05000/40000 finish\n",
      "06000/40000 finish\n",
      "07000/40000 finish\n",
      "08000/40000 finish\n",
      "09000/40000 finish\n",
      "10000/40000 finish\n",
      "11000/40000 finish\n",
      "12000/40000 finish\n",
      "13000/40000 finish\n",
      "14000/40000 finish\n",
      "15000/40000 finish\n",
      "16000/40000 finish\n",
      "17000/40000 finish\n",
      "18000/40000 finish\n",
      "19000/40000 finish\n",
      "20000/40000 finish\n",
      "21000/40000 finish\n",
      "22000/40000 finish\n",
      "23000/40000 finish\n",
      "24000/40000 finish\n",
      "25000/40000 finish\n",
      "26000/40000 finish\n",
      "27000/40000 finish\n",
      "28000/40000 finish\n",
      "29000/40000 finish\n",
      "30000/40000 finish\n",
      "31000/40000 finish\n",
      "32000/40000 finish\n",
      "33000/40000 finish\n",
      "34000/40000 finish\n",
      "35000/40000 finish\n",
      "36000/40000 finish\n",
      "37000/40000 finish\n",
      "38000/40000 finish\n",
      "39000/40000 finish\n",
      "40000/40000 finish\n"
     ]
    }
   ],
   "source": [
    "max_length = 512\n",
    "tokens, valid_lengths, labels = encode_data(train, max_length)"
   ]
  },
  {
   "cell_type": "code",
   "execution_count": 37,
   "metadata": {},
   "outputs": [],
   "source": [
    "trainX = []\n",
    "for idx in range(len(tokens)):\n",
    "    trainX.append([np.array(tokens[idx]), np.array(valid_lengths[idx]), np.array(labels[idx])])\n",
    "trainY = labels\n",
    "\n",
    "train = []\n",
    "tokens = []\n",
    "valid_lengths = []\n",
    "labels = []"
   ]
  },
  {
   "cell_type": "code",
   "execution_count": 29,
   "metadata": {},
   "outputs": [
    {
     "name": "stdout",
     "output_type": "stream",
     "text": [
      "01000/05000 finish\n",
      "02000/05000 finish\n",
      "03000/05000 finish\n",
      "04000/05000 finish\n",
      "05000/05000 finish\n"
     ]
    }
   ],
   "source": [
    "tokens, valid_lengths = encode_data(test, max_length=max_length, isTest=True)"
   ]
  },
  {
   "cell_type": "code",
   "execution_count": 32,
   "metadata": {},
   "outputs": [],
   "source": [
    "testX = []\n",
    "for idx in range(len(tokens)):\n",
    "    testX.append([np.array(tokens[idx]), np.array(valid_lengths[idx])])\n",
    "\n",
    "train = []\n",
    "tokens = []\n",
    "valid_lengths = []"
   ]
  },
  {
   "cell_type": "code",
   "execution_count": 5,
   "metadata": {},
   "outputs": [],
   "source": [
    "trainX = torch.load('trainX.pt')\n",
    "trainY = torch.load('trainY.pt')\n",
    "\n",
    "testX = torch.load('testX.pt')"
   ]
  },
  {
   "cell_type": "markdown",
   "metadata": {},
   "source": [
    "# model"
   ]
  },
  {
   "cell_type": "code",
   "execution_count": 3,
   "metadata": {},
   "outputs": [],
   "source": [
    "class BERTClassifier(nn.Module):\n",
    "    def __init__(self, bert, hidden_size=768, num_classes=2, dr_rate=None, params=None):\n",
    "        super(BERTClassifier, self).__init__()\n",
    "        self.bert = bert\n",
    "        self.dr_rate = dr_rate\n",
    "        \n",
    "        self.classifier = nn.Linear(hidden_size, num_classes)\n",
    "        if dr_rate:\n",
    "            self.dropout = nn.Dropout(p=dr_rate)\n",
    "    \n",
    "    def forward(self, token, segment, mask):\n",
    "        _, pooler = self.bert(input_ids = token, token_type_ids = segment, attention_mask=mask)\n",
    "        if self.dr_rate:\n",
    "            out = self.dropout(pooler)\n",
    "        out = self.classifier(out)\n",
    "        out = F.softmax(out)\n",
    "        return out"
   ]
  },
  {
   "cell_type": "code",
   "execution_count": 4,
   "metadata": {},
   "outputs": [],
   "source": [
    "#bert model 획득\n",
    "bertmodel = AutoModel.from_pretrained(\"monologg/kobert-lm\").to(device)"
   ]
  },
  {
   "cell_type": "code",
   "execution_count": 20,
   "metadata": {},
   "outputs": [
    {
     "name": "stdout",
     "output_type": "stream",
     "text": [
      "92189187\n"
     ]
    }
   ],
   "source": [
    "model_parameters = filter(lambda p: p.requires_grad, model.parameters())\n",
    "params = sum([np.prod(p.size()) for p in model_parameters])\n",
    "print(params)"
   ]
  },
  {
   "cell_type": "code",
   "execution_count": 6,
   "metadata": {},
   "outputs": [],
   "source": [
    "learning_rate = 5e-7\n",
    "num_epochs = 5\n",
    "dr_rate = 0.2"
   ]
  },
  {
   "cell_type": "code",
   "execution_count": 7,
   "metadata": {},
   "outputs": [],
   "source": [
    "model = BERTClassifier(bertmodel, num_classes=3, dr_rate=dr_rate).to(device)"
   ]
  },
  {
   "cell_type": "markdown",
   "metadata": {},
   "source": [
    "# train"
   ]
  },
  {
   "cell_type": "code",
   "execution_count": 15,
   "metadata": {},
   "outputs": [],
   "source": [
    "def calc_accuracy(X,Y):\n",
    "    X = X.cpu()\n",
    "    Y = Y.cpu()\n",
    "    max_vals, max_indices = torch.max(X,1)\n",
    "    correct_cnt = (max_indices == Y).sum().data.numpy()\n",
    "    train_acc = correct_cnt/max_indices.size()[0]\n",
    "    return correct_cnt, train_acc"
   ]
  },
  {
   "cell_type": "code",
   "execution_count": 17,
   "metadata": {},
   "outputs": [],
   "source": [
    "batch_size = 16\n",
    "\n",
    "train_loader = torch.utils.data.DataLoader(trainX, batch_size=batch_size, num_workers=1)\n",
    "\n",
    "optimizer = AdamW(model.parameters(), lr=learning_rate)\n",
    "\n",
    "loss_function = nn.CrossEntropyLoss()\n",
    "\n",
    "epochs = 4"
   ]
  },
  {
   "cell_type": "code",
   "execution_count": 21,
   "metadata": {},
   "outputs": [
    {
     "name": "stderr",
     "output_type": "stream",
     "text": [
      "<ipython-input-6-3832c1dc28f6>:16: UserWarning: Implicit dimension choice for softmax has been deprecated. Change the call to include dim=X as an argument.\n",
      "  out = F.softmax(out)\n"
     ]
    },
    {
     "name": "stdout",
     "output_type": "stream",
     "text": [
      "Epoch: 1\tBatch: [0/2500]\tAcc: 18.75\tLoss: tensor(1.1036, device='cuda:0')\n",
      "Epoch: 1\tBatch: [50/2500]\tAcc: 50.0\tLoss: tensor(1.0871, device='cuda:0')\n",
      "Epoch: 1\tBatch: [100/2500]\tAcc: 25.0\tLoss: tensor(1.1034, device='cuda:0')\n",
      "Epoch: 1\tBatch: [150/2500]\tAcc: 31.25\tLoss: tensor(1.1095, device='cuda:0')\n",
      "Epoch: 1\tBatch: [200/2500]\tAcc: 43.75\tLoss: tensor(1.0913, device='cuda:0')\n",
      "Epoch: 1\tBatch: [250/2500]\tAcc: 37.5\tLoss: tensor(1.0757, device='cuda:0')\n",
      "Epoch: 1\tBatch: [300/2500]\tAcc: 43.75\tLoss: tensor(1.0981, device='cuda:0')\n",
      "Epoch: 1\tBatch: [350/2500]\tAcc: 62.5\tLoss: tensor(1.0704, device='cuda:0')\n",
      "Epoch: 1\tBatch: [400/2500]\tAcc: 37.5\tLoss: tensor(1.0862, device='cuda:0')\n",
      "Epoch: 1\tBatch: [450/2500]\tAcc: 68.75\tLoss: tensor(1.0521, device='cuda:0')\n",
      "Epoch: 1\tBatch: [500/2500]\tAcc: 62.5\tLoss: tensor(1.0501, device='cuda:0')\n",
      "Epoch: 1\tBatch: [550/2500]\tAcc: 68.75\tLoss: tensor(1.0658, device='cuda:0')\n",
      "Epoch: 1\tBatch: [600/2500]\tAcc: 56.25\tLoss: tensor(1.0629, device='cuda:0')\n",
      "Epoch: 1\tBatch: [650/2500]\tAcc: 68.75\tLoss: tensor(1.0638, device='cuda:0')\n",
      "Epoch: 1\tBatch: [700/2500]\tAcc: 18.75\tLoss: tensor(1.1036, device='cuda:0')\n",
      "Epoch: 1\tBatch: [750/2500]\tAcc: 43.75\tLoss: tensor(1.0733, device='cuda:0')\n",
      "Epoch: 1\tBatch: [800/2500]\tAcc: 31.25\tLoss: tensor(1.0741, device='cuda:0')\n",
      "Epoch: 1\tBatch: [850/2500]\tAcc: 62.5\tLoss: tensor(1.0486, device='cuda:0')\n",
      "Epoch: 1\tBatch: [900/2500]\tAcc: 43.75\tLoss: tensor(1.0620, device='cuda:0')\n",
      "Epoch: 1\tBatch: [950/2500]\tAcc: 31.25\tLoss: tensor(1.0782, device='cuda:0')\n",
      "Epoch: 1\tBatch: [1000/2500]\tAcc: 37.5\tLoss: tensor(1.0631, device='cuda:0')\n",
      "Epoch: 1\tBatch: [1050/2500]\tAcc: 68.75\tLoss: tensor(0.9649, device='cuda:0')\n",
      "Epoch: 1\tBatch: [1100/2500]\tAcc: 56.25\tLoss: tensor(1.0278, device='cuda:0')\n",
      "Epoch: 1\tBatch: [1150/2500]\tAcc: 75.0\tLoss: tensor(1.0206, device='cuda:0')\n",
      "Epoch: 1\tBatch: [1200/2500]\tAcc: 81.25\tLoss: tensor(0.9583, device='cuda:0')\n",
      "Epoch: 1\tBatch: [1250/2500]\tAcc: 68.75\tLoss: tensor(0.9908, device='cuda:0')\n",
      "Epoch: 1\tBatch: [1300/2500]\tAcc: 75.0\tLoss: tensor(0.9379, device='cuda:0')\n",
      "Epoch: 1\tBatch: [1350/2500]\tAcc: 68.75\tLoss: tensor(0.9939, device='cuda:0')\n",
      "Epoch: 1\tBatch: [1400/2500]\tAcc: 68.75\tLoss: tensor(0.9246, device='cuda:0')\n",
      "Epoch: 1\tBatch: [1450/2500]\tAcc: 68.75\tLoss: tensor(0.9330, device='cuda:0')\n",
      "Epoch: 1\tBatch: [1500/2500]\tAcc: 87.5\tLoss: tensor(0.9156, device='cuda:0')\n",
      "Epoch: 1\tBatch: [1550/2500]\tAcc: 81.25\tLoss: tensor(0.9328, device='cuda:0')\n",
      "Epoch: 1\tBatch: [1600/2500]\tAcc: 68.75\tLoss: tensor(0.9463, device='cuda:0')\n",
      "Epoch: 1\tBatch: [1650/2500]\tAcc: 68.75\tLoss: tensor(0.9241, device='cuda:0')\n",
      "Epoch: 1\tBatch: [1700/2500]\tAcc: 75.0\tLoss: tensor(0.8594, device='cuda:0')\n",
      "Epoch: 1\tBatch: [1750/2500]\tAcc: 81.25\tLoss: tensor(0.8324, device='cuda:0')\n",
      "Epoch: 1\tBatch: [1800/2500]\tAcc: 75.0\tLoss: tensor(0.9469, device='cuda:0')\n",
      "Epoch: 1\tBatch: [1850/2500]\tAcc: 62.5\tLoss: tensor(0.9159, device='cuda:0')\n",
      "Epoch: 1\tBatch: [1900/2500]\tAcc: 75.0\tLoss: tensor(0.8568, device='cuda:0')\n",
      "Epoch: 1\tBatch: [1950/2500]\tAcc: 87.5\tLoss: tensor(0.8278, device='cuda:0')\n",
      "Epoch: 1\tBatch: [2000/2500]\tAcc: 81.25\tLoss: tensor(0.8537, device='cuda:0')\n",
      "Epoch: 1\tBatch: [2050/2500]\tAcc: 93.75\tLoss: tensor(0.7701, device='cuda:0')\n",
      "Epoch: 1\tBatch: [2100/2500]\tAcc: 81.25\tLoss: tensor(0.8396, device='cuda:0')\n",
      "Epoch: 1\tBatch: [2150/2500]\tAcc: 93.75\tLoss: tensor(0.7945, device='cuda:0')\n",
      "Epoch: 1\tBatch: [2200/2500]\tAcc: 81.25\tLoss: tensor(0.8384, device='cuda:0')\n",
      "Epoch: 1\tBatch: [2250/2500]\tAcc: 81.25\tLoss: tensor(0.8364, device='cuda:0')\n",
      "Epoch: 1\tBatch: [2300/2500]\tAcc: 93.75\tLoss: tensor(0.7085, device='cuda:0')\n",
      "Epoch: 1\tBatch: [2350/2500]\tAcc: 93.75\tLoss: tensor(0.7296, device='cuda:0')\n",
      "Epoch: 1\tBatch: [2400/2500]\tAcc: 68.75\tLoss: tensor(0.8446, device='cuda:0')\n",
      "Epoch: 1\tBatch: [2450/2500]\tAcc: 81.25\tLoss: tensor(0.8347, device='cuda:0')\n",
      "Epoch: 1\tEpoch Acc: 0.647\n",
      "Epoch: 2\tBatch: [0/2500]\tAcc: 62.5\tLoss: tensor(0.9078, device='cuda:0')\n",
      "Epoch: 2\tBatch: [50/2500]\tAcc: 93.75\tLoss: tensor(0.7073, device='cuda:0')\n",
      "Epoch: 2\tBatch: [100/2500]\tAcc: 81.25\tLoss: tensor(0.7716, device='cuda:0')\n",
      "Epoch: 2\tBatch: [150/2500]\tAcc: 93.75\tLoss: tensor(0.7094, device='cuda:0')\n",
      "Epoch: 2\tBatch: [200/2500]\tAcc: 100.0\tLoss: tensor(0.6771, device='cuda:0')\n",
      "Epoch: 2\tBatch: [250/2500]\tAcc: 87.5\tLoss: tensor(0.7379, device='cuda:0')\n",
      "Epoch: 2\tBatch: [300/2500]\tAcc: 87.5\tLoss: tensor(0.7387, device='cuda:0')\n",
      "Epoch: 2\tBatch: [350/2500]\tAcc: 81.25\tLoss: tensor(0.8058, device='cuda:0')\n",
      "Epoch: 2\tBatch: [400/2500]\tAcc: 81.25\tLoss: tensor(0.7875, device='cuda:0')\n",
      "Epoch: 2\tBatch: [450/2500]\tAcc: 81.25\tLoss: tensor(0.8125, device='cuda:0')\n",
      "Epoch: 2\tBatch: [500/2500]\tAcc: 93.75\tLoss: tensor(0.7454, device='cuda:0')\n",
      "Epoch: 2\tBatch: [550/2500]\tAcc: 100.0\tLoss: tensor(0.6883, device='cuda:0')\n",
      "Epoch: 2\tBatch: [600/2500]\tAcc: 81.25\tLoss: tensor(0.7507, device='cuda:0')\n",
      "Epoch: 2\tBatch: [650/2500]\tAcc: 100.0\tLoss: tensor(0.6420, device='cuda:0')\n",
      "Epoch: 2\tBatch: [700/2500]\tAcc: 68.75\tLoss: tensor(0.8618, device='cuda:0')\n",
      "Epoch: 2\tBatch: [750/2500]\tAcc: 68.75\tLoss: tensor(0.8694, device='cuda:0')\n",
      "Epoch: 2\tBatch: [800/2500]\tAcc: 75.0\tLoss: tensor(0.8328, device='cuda:0')\n",
      "Epoch: 2\tBatch: [850/2500]\tAcc: 68.75\tLoss: tensor(0.9007, device='cuda:0')\n",
      "Epoch: 2\tBatch: [900/2500]\tAcc: 75.0\tLoss: tensor(0.8137, device='cuda:0')\n",
      "Epoch: 2\tBatch: [950/2500]\tAcc: 81.25\tLoss: tensor(0.7985, device='cuda:0')\n",
      "Epoch: 2\tBatch: [1000/2500]\tAcc: 81.25\tLoss: tensor(0.7778, device='cuda:0')\n",
      "Epoch: 2\tBatch: [1050/2500]\tAcc: 81.25\tLoss: tensor(0.7573, device='cuda:0')\n",
      "Epoch: 2\tBatch: [1100/2500]\tAcc: 87.5\tLoss: tensor(0.7182, device='cuda:0')\n",
      "Epoch: 2\tBatch: [1150/2500]\tAcc: 81.25\tLoss: tensor(0.7921, device='cuda:0')\n",
      "Epoch: 2\tBatch: [1200/2500]\tAcc: 87.5\tLoss: tensor(0.7256, device='cuda:0')\n",
      "Epoch: 2\tBatch: [1250/2500]\tAcc: 87.5\tLoss: tensor(0.7391, device='cuda:0')\n",
      "Epoch: 2\tBatch: [1300/2500]\tAcc: 100.0\tLoss: tensor(0.6227, device='cuda:0')\n",
      "Epoch: 2\tBatch: [1350/2500]\tAcc: 75.0\tLoss: tensor(0.7996, device='cuda:0')\n",
      "Epoch: 2\tBatch: [1400/2500]\tAcc: 81.25\tLoss: tensor(0.7813, device='cuda:0')\n",
      "Epoch: 2\tBatch: [1450/2500]\tAcc: 93.75\tLoss: tensor(0.7056, device='cuda:0')\n",
      "Epoch: 2\tBatch: [1500/2500]\tAcc: 87.5\tLoss: tensor(0.7013, device='cuda:0')\n",
      "Epoch: 2\tBatch: [1550/2500]\tAcc: 75.0\tLoss: tensor(0.8296, device='cuda:0')\n",
      "Epoch: 2\tBatch: [1600/2500]\tAcc: 68.75\tLoss: tensor(0.8527, device='cuda:0')\n",
      "Epoch: 2\tBatch: [1650/2500]\tAcc: 75.0\tLoss: tensor(0.8251, device='cuda:0')\n",
      "Epoch: 2\tBatch: [1700/2500]\tAcc: 93.75\tLoss: tensor(0.6863, device='cuda:0')\n",
      "Epoch: 2\tBatch: [1750/2500]\tAcc: 87.5\tLoss: tensor(0.7141, device='cuda:0')\n",
      "Epoch: 2\tBatch: [1800/2500]\tAcc: 81.25\tLoss: tensor(0.7881, device='cuda:0')\n",
      "Epoch: 2\tBatch: [1850/2500]\tAcc: 68.75\tLoss: tensor(0.8460, device='cuda:0')\n",
      "Epoch: 2\tBatch: [1900/2500]\tAcc: 87.5\tLoss: tensor(0.7086, device='cuda:0')\n",
      "Epoch: 2\tBatch: [1950/2500]\tAcc: 93.75\tLoss: tensor(0.6531, device='cuda:0')\n",
      "Epoch: 2\tBatch: [2000/2500]\tAcc: 81.25\tLoss: tensor(0.7449, device='cuda:0')\n",
      "Epoch: 2\tBatch: [2050/2500]\tAcc: 93.75\tLoss: tensor(0.6516, device='cuda:0')\n",
      "Epoch: 2\tBatch: [2100/2500]\tAcc: 87.5\tLoss: tensor(0.7261, device='cuda:0')\n",
      "Epoch: 2\tBatch: [2150/2500]\tAcc: 93.75\tLoss: tensor(0.6481, device='cuda:0')\n",
      "Epoch: 2\tBatch: [2200/2500]\tAcc: 93.75\tLoss: tensor(0.6781, device='cuda:0')\n",
      "Epoch: 2\tBatch: [2250/2500]\tAcc: 81.25\tLoss: tensor(0.7562, device='cuda:0')\n",
      "Epoch: 2\tBatch: [2300/2500]\tAcc: 93.75\tLoss: tensor(0.6407, device='cuda:0')\n",
      "Epoch: 2\tBatch: [2350/2500]\tAcc: 100.0\tLoss: tensor(0.6086, device='cuda:0')\n",
      "Epoch: 2\tBatch: [2400/2500]\tAcc: 87.5\tLoss: tensor(0.7055, device='cuda:0')\n",
      "Epoch: 2\tBatch: [2450/2500]\tAcc: 81.25\tLoss: tensor(0.7138, device='cuda:0')\n",
      "Epoch: 2\tEpoch Acc: 0.8313\n",
      "Epoch: 3\tBatch: [0/2500]\tAcc: 75.0\tLoss: tensor(0.7946, device='cuda:0')\n",
      "Epoch: 3\tBatch: [50/2500]\tAcc: 100.0\tLoss: tensor(0.5948, device='cuda:0')\n",
      "Epoch: 3\tBatch: [100/2500]\tAcc: 75.0\tLoss: tensor(0.7439, device='cuda:0')\n",
      "Epoch: 3\tBatch: [150/2500]\tAcc: 93.75\tLoss: tensor(0.6467, device='cuda:0')\n",
      "Epoch: 3\tBatch: [200/2500]\tAcc: 93.75\tLoss: tensor(0.6266, device='cuda:0')\n",
      "Epoch: 3\tBatch: [250/2500]\tAcc: 93.75\tLoss: tensor(0.6595, device='cuda:0')\n",
      "Epoch: 3\tBatch: [300/2500]\tAcc: 87.5\tLoss: tensor(0.6850, device='cuda:0')\n"
     ]
    },
    {
     "name": "stdout",
     "output_type": "stream",
     "text": [
      "Epoch: 3\tBatch: [350/2500]\tAcc: 75.0\tLoss: tensor(0.7699, device='cuda:0')\n",
      "Epoch: 3\tBatch: [400/2500]\tAcc: 93.75\tLoss: tensor(0.6709, device='cuda:0')\n",
      "Epoch: 3\tBatch: [450/2500]\tAcc: 81.25\tLoss: tensor(0.7233, device='cuda:0')\n",
      "Epoch: 3\tBatch: [500/2500]\tAcc: 87.5\tLoss: tensor(0.6876, device='cuda:0')\n",
      "Epoch: 3\tBatch: [550/2500]\tAcc: 87.5\tLoss: tensor(0.6728, device='cuda:0')\n",
      "Epoch: 3\tBatch: [600/2500]\tAcc: 93.75\tLoss: tensor(0.6484, device='cuda:0')\n",
      "Epoch: 3\tBatch: [650/2500]\tAcc: 100.0\tLoss: tensor(0.5847, device='cuda:0')\n",
      "Epoch: 3\tBatch: [700/2500]\tAcc: 68.75\tLoss: tensor(0.8429, device='cuda:0')\n",
      "Epoch: 3\tBatch: [750/2500]\tAcc: 68.75\tLoss: tensor(0.8022, device='cuda:0')\n",
      "Epoch: 3\tBatch: [800/2500]\tAcc: 87.5\tLoss: tensor(0.7345, device='cuda:0')\n",
      "Epoch: 3\tBatch: [850/2500]\tAcc: 68.75\tLoss: tensor(0.8738, device='cuda:0')\n",
      "Epoch: 3\tBatch: [900/2500]\tAcc: 75.0\tLoss: tensor(0.7997, device='cuda:0')\n",
      "Epoch: 3\tBatch: [950/2500]\tAcc: 87.5\tLoss: tensor(0.7118, device='cuda:0')\n",
      "Epoch: 3\tBatch: [1000/2500]\tAcc: 81.25\tLoss: tensor(0.7745, device='cuda:0')\n",
      "Epoch: 3\tBatch: [1050/2500]\tAcc: 81.25\tLoss: tensor(0.7240, device='cuda:0')\n",
      "Epoch: 3\tBatch: [1100/2500]\tAcc: 87.5\tLoss: tensor(0.6753, device='cuda:0')\n",
      "Epoch: 3\tBatch: [1150/2500]\tAcc: 87.5\tLoss: tensor(0.6975, device='cuda:0')\n",
      "Epoch: 3\tBatch: [1200/2500]\tAcc: 93.75\tLoss: tensor(0.6400, device='cuda:0')\n",
      "Epoch: 3\tBatch: [1250/2500]\tAcc: 87.5\tLoss: tensor(0.7027, device='cuda:0')\n",
      "Epoch: 3\tBatch: [1300/2500]\tAcc: 100.0\tLoss: tensor(0.5791, device='cuda:0')\n",
      "Epoch: 3\tBatch: [1350/2500]\tAcc: 87.5\tLoss: tensor(0.6641, device='cuda:0')\n",
      "Epoch: 3\tBatch: [1400/2500]\tAcc: 81.25\tLoss: tensor(0.7663, device='cuda:0')\n",
      "Epoch: 3\tBatch: [1450/2500]\tAcc: 81.25\tLoss: tensor(0.7348, device='cuda:0')\n",
      "Epoch: 3\tBatch: [1500/2500]\tAcc: 93.75\tLoss: tensor(0.6118, device='cuda:0')\n",
      "Epoch: 3\tBatch: [1550/2500]\tAcc: 68.75\tLoss: tensor(0.8533, device='cuda:0')\n",
      "Epoch: 3\tBatch: [1600/2500]\tAcc: 81.25\tLoss: tensor(0.7710, device='cuda:0')\n",
      "Epoch: 3\tBatch: [1650/2500]\tAcc: 75.0\tLoss: tensor(0.8087, device='cuda:0')\n",
      "Epoch: 3\tBatch: [1700/2500]\tAcc: 93.75\tLoss: tensor(0.6383, device='cuda:0')\n",
      "Epoch: 3\tBatch: [1750/2500]\tAcc: 87.5\tLoss: tensor(0.6809, device='cuda:0')\n",
      "Epoch: 3\tBatch: [1800/2500]\tAcc: 81.25\tLoss: tensor(0.7338, device='cuda:0')\n",
      "Epoch: 3\tBatch: [1850/2500]\tAcc: 75.0\tLoss: tensor(0.8113, device='cuda:0')\n",
      "Epoch: 3\tBatch: [1900/2500]\tAcc: 87.5\tLoss: tensor(0.6610, device='cuda:0')\n",
      "Epoch: 3\tBatch: [1950/2500]\tAcc: 93.75\tLoss: tensor(0.5987, device='cuda:0')\n",
      "Epoch: 3\tBatch: [2000/2500]\tAcc: 81.25\tLoss: tensor(0.7362, device='cuda:0')\n",
      "Epoch: 3\tBatch: [2050/2500]\tAcc: 93.75\tLoss: tensor(0.6286, device='cuda:0')\n",
      "Epoch: 3\tBatch: [2100/2500]\tAcc: 93.75\tLoss: tensor(0.6738, device='cuda:0')\n",
      "Epoch: 3\tBatch: [2150/2500]\tAcc: 93.75\tLoss: tensor(0.6237, device='cuda:0')\n",
      "Epoch: 3\tBatch: [2200/2500]\tAcc: 93.75\tLoss: tensor(0.6483, device='cuda:0')\n",
      "Epoch: 3\tBatch: [2250/2500]\tAcc: 75.0\tLoss: tensor(0.7859, device='cuda:0')\n",
      "Epoch: 3\tBatch: [2300/2500]\tAcc: 87.5\tLoss: tensor(0.6607, device='cuda:0')\n",
      "Epoch: 3\tBatch: [2350/2500]\tAcc: 100.0\tLoss: tensor(0.5781, device='cuda:0')\n",
      "Epoch: 3\tBatch: [2400/2500]\tAcc: 81.25\tLoss: tensor(0.7033, device='cuda:0')\n",
      "Epoch: 3\tBatch: [2450/2500]\tAcc: 81.25\tLoss: tensor(0.7386, device='cuda:0')\n",
      "Epoch: 3\tEpoch Acc: 0.84965\n",
      "Epoch: 4\tBatch: [0/2500]\tAcc: 75.0\tLoss: tensor(0.7594, device='cuda:0')\n",
      "Epoch: 4\tBatch: [50/2500]\tAcc: 100.0\tLoss: tensor(0.5837, device='cuda:0')\n",
      "Epoch: 4\tBatch: [100/2500]\tAcc: 81.25\tLoss: tensor(0.6929, device='cuda:0')\n",
      "Epoch: 4\tBatch: [150/2500]\tAcc: 81.25\tLoss: tensor(0.7263, device='cuda:0')\n",
      "Epoch: 4\tBatch: [200/2500]\tAcc: 93.75\tLoss: tensor(0.6154, device='cuda:0')\n",
      "Epoch: 4\tBatch: [250/2500]\tAcc: 87.5\tLoss: tensor(0.6900, device='cuda:0')\n",
      "Epoch: 4\tBatch: [300/2500]\tAcc: 87.5\tLoss: tensor(0.6685, device='cuda:0')\n",
      "Epoch: 4\tBatch: [350/2500]\tAcc: 87.5\tLoss: tensor(0.7015, device='cuda:0')\n",
      "Epoch: 4\tBatch: [400/2500]\tAcc: 93.75\tLoss: tensor(0.6326, device='cuda:0')\n",
      "Epoch: 4\tBatch: [450/2500]\tAcc: 87.5\tLoss: tensor(0.6881, device='cuda:0')\n",
      "Epoch: 4\tBatch: [500/2500]\tAcc: 87.5\tLoss: tensor(0.6962, device='cuda:0')\n",
      "Epoch: 4\tBatch: [550/2500]\tAcc: 87.5\tLoss: tensor(0.6617, device='cuda:0')\n",
      "Epoch: 4\tBatch: [600/2500]\tAcc: 93.75\tLoss: tensor(0.6288, device='cuda:0')\n",
      "Epoch: 4\tBatch: [650/2500]\tAcc: 100.0\tLoss: tensor(0.5621, device='cuda:0')\n",
      "Epoch: 4\tBatch: [700/2500]\tAcc: 75.0\tLoss: tensor(0.7643, device='cuda:0')\n",
      "Epoch: 4\tBatch: [750/2500]\tAcc: 75.0\tLoss: tensor(0.7825, device='cuda:0')\n",
      "Epoch: 4\tBatch: [800/2500]\tAcc: 87.5\tLoss: tensor(0.6966, device='cuda:0')\n",
      "Epoch: 4\tBatch: [850/2500]\tAcc: 68.75\tLoss: tensor(0.8425, device='cuda:0')\n",
      "Epoch: 4\tBatch: [900/2500]\tAcc: 81.25\tLoss: tensor(0.7209, device='cuda:0')\n",
      "Epoch: 4\tBatch: [950/2500]\tAcc: 81.25\tLoss: tensor(0.7405, device='cuda:0')\n",
      "Epoch: 4\tBatch: [1000/2500]\tAcc: 81.25\tLoss: tensor(0.7475, device='cuda:0')\n",
      "Epoch: 4\tBatch: [1050/2500]\tAcc: 81.25\tLoss: tensor(0.6813, device='cuda:0')\n",
      "Epoch: 4\tBatch: [1100/2500]\tAcc: 87.5\tLoss: tensor(0.6776, device='cuda:0')\n",
      "Epoch: 4\tBatch: [1150/2500]\tAcc: 81.25\tLoss: tensor(0.7406, device='cuda:0')\n",
      "Epoch: 4\tBatch: [1200/2500]\tAcc: 93.75\tLoss: tensor(0.6329, device='cuda:0')\n",
      "Epoch: 4\tBatch: [1250/2500]\tAcc: 87.5\tLoss: tensor(0.6898, device='cuda:0')\n",
      "Epoch: 4\tBatch: [1300/2500]\tAcc: 100.0\tLoss: tensor(0.5665, device='cuda:0')\n",
      "Epoch: 4\tBatch: [1350/2500]\tAcc: 87.5\tLoss: tensor(0.6830, device='cuda:0')\n",
      "Epoch: 4\tBatch: [1400/2500]\tAcc: 81.25\tLoss: tensor(0.7527, device='cuda:0')\n",
      "Epoch: 4\tBatch: [1450/2500]\tAcc: 81.25\tLoss: tensor(0.7278, device='cuda:0')\n",
      "Epoch: 4\tBatch: [1500/2500]\tAcc: 100.0\tLoss: tensor(0.5873, device='cuda:0')\n",
      "Epoch: 4\tBatch: [1550/2500]\tAcc: 68.75\tLoss: tensor(0.8439, device='cuda:0')\n",
      "Epoch: 4\tBatch: [1600/2500]\tAcc: 68.75\tLoss: tensor(0.7979, device='cuda:0')\n",
      "Epoch: 4\tBatch: [1650/2500]\tAcc: 81.25\tLoss: tensor(0.7493, device='cuda:0')\n",
      "Epoch: 4\tBatch: [1700/2500]\tAcc: 93.75\tLoss: tensor(0.6198, device='cuda:0')\n",
      "Epoch: 4\tBatch: [1750/2500]\tAcc: 87.5\tLoss: tensor(0.6737, device='cuda:0')\n",
      "Epoch: 4\tBatch: [1800/2500]\tAcc: 87.5\tLoss: tensor(0.6968, device='cuda:0')\n",
      "Epoch: 4\tBatch: [1850/2500]\tAcc: 75.0\tLoss: tensor(0.7976, device='cuda:0')\n",
      "Epoch: 4\tBatch: [1900/2500]\tAcc: 100.0\tLoss: tensor(0.5874, device='cuda:0')\n",
      "Epoch: 4\tBatch: [1950/2500]\tAcc: 100.0\tLoss: tensor(0.5715, device='cuda:0')\n",
      "Epoch: 4\tBatch: [2000/2500]\tAcc: 81.25\tLoss: tensor(0.7359, device='cuda:0')\n",
      "Epoch: 4\tBatch: [2050/2500]\tAcc: 93.75\tLoss: tensor(0.6285, device='cuda:0')\n",
      "Epoch: 4\tBatch: [2100/2500]\tAcc: 93.75\tLoss: tensor(0.6392, device='cuda:0')\n",
      "Epoch: 4\tBatch: [2150/2500]\tAcc: 93.75\tLoss: tensor(0.6159, device='cuda:0')\n",
      "Epoch: 4\tBatch: [2200/2500]\tAcc: 93.75\tLoss: tensor(0.6346, device='cuda:0')\n",
      "Epoch: 4\tBatch: [2250/2500]\tAcc: 81.25\tLoss: tensor(0.7176, device='cuda:0')\n",
      "Epoch: 4\tBatch: [2300/2500]\tAcc: 93.75\tLoss: tensor(0.6324, device='cuda:0')\n",
      "Epoch: 4\tBatch: [2350/2500]\tAcc: 100.0\tLoss: tensor(0.5605, device='cuda:0')\n",
      "Epoch: 4\tBatch: [2400/2500]\tAcc: 81.25\tLoss: tensor(0.7271, device='cuda:0')\n",
      "Epoch: 4\tBatch: [2450/2500]\tAcc: 81.25\tLoss: tensor(0.7431, device='cuda:0')\n",
      "Epoch: 4\tEpoch Acc: 0.8584\n"
     ]
    }
   ],
   "source": [
    "model.train()\n",
    "\n",
    "#with torch.no_grad():\n",
    "for epoch in range(epochs):\n",
    "    train_acc = 0\n",
    "\n",
    "    for batch_number, data in enumerate((train_loader)):\n",
    "\n",
    "        optimizer.zero_grad()\n",
    "\n",
    "        token_ids = data[0].to(device)\n",
    "        valid_length = data[1].to(device)\n",
    "        label = data[2].to(device)\n",
    "\n",
    "        segment_ids = torch.zeros_like(token_ids).long().to(device)\n",
    "        attention_masks = torch.zeros_like(token_ids).long().to(device)\n",
    "\n",
    "        out = model(token_ids, segment_ids, attention_masks)\n",
    "\n",
    "        loss = loss_function(out, label)\n",
    "        loss.backward()\n",
    "        optimizer.step()\n",
    "        correct_cnt, acc = calc_accuracy(out, label)\n",
    "        train_acc += correct_cnt\n",
    "        if batch_number % 50 == 0:\n",
    "            print('Epoch: ' + str(epoch+1) + '\\tBatch: [' + str(batch_number) + '/' + str(len(train_loader)) + ']\\tAcc: ' + str(acc*100) + '%\\tLoss: ' + str(loss.data))\n",
    "    \n",
    "    train_acc /= (len(train_loader) * batch_size)\n",
    "    print('\\nEpoch: ' + str(epoch+1) + '\\tEpoch Acc: ' + str(train_acc) + '%\\n')\n"
   ]
  },
  {
   "cell_type": "code",
   "execution_count": 22,
   "metadata": {},
   "outputs": [],
   "source": [
    "torch.save({\n",
    "    'epoch': epoch,\n",
    "    'model_state_dict': model.state_dict(),\n",
    "    'optimizer_state_dict': optimizer.state_dict(),\n",
    "}, 'checkpoint.tar')"
   ]
  },
  {
   "cell_type": "code",
   "execution_count": null,
   "metadata": {},
   "outputs": [],
   "source": [
    "checkpoint = torch.load('checkpoint.tar')\n",
    "model.load_state_dict(checkpoint['model_state_dict'])\n",
    "optimizer.load_state_dict(checkpoint['optimizer_state_dict'])\n",
    "epoch = checkpoint['epoch']\n",
    "loss = checkpoint['loss']"
   ]
  },
  {
   "cell_type": "markdown",
   "metadata": {},
   "source": [
    "# evaluate"
   ]
  },
  {
   "cell_type": "code",
   "execution_count": 40,
   "metadata": {},
   "outputs": [
    {
     "name": "stderr",
     "output_type": "stream",
     "text": [
      "<ipython-input-6-3832c1dc28f6>:16: UserWarning: Implicit dimension choice for softmax has been deprecated. Change the call to include dim=X as an argument.\n",
      "  out = F.softmax(out)\n"
     ]
    },
    {
     "name": "stdout",
     "output_type": "stream",
     "text": [
      "Batch: [0/313]\n",
      "Batch: [50/313]\n",
      "Batch: [100/313]\n",
      "Batch: [150/313]\n",
      "Batch: [200/313]\n",
      "Batch: [250/313]\n",
      "Batch: [300/313]\n"
     ]
    }
   ],
   "source": [
    "model.eval()\n",
    "\n",
    "eval_loader = torch.utils.data.DataLoader(testX, batch_size=batch_size, num_workers=1)\n",
    "\n",
    "predictions = []\n",
    "\n",
    "with torch.no_grad():\n",
    "    for batch_number, data in enumerate((eval_loader)):\n",
    "\n",
    "        token_ids = data[0].to(device)\n",
    "        valid_length = data[1].to(device)\n",
    "\n",
    "        segment_ids = torch.zeros_like(token_ids).long().to(device)\n",
    "        attention_masks = torch.zeros_like(token_ids).long().to(device)\n",
    "\n",
    "        out = model(token_ids, segment_ids, attention_masks)\n",
    "\n",
    "        _, prediction = torch.max(out.cpu(),1)\n",
    "        \n",
    "        predictions.extend(prediction)\n",
    "\n",
    "        if batch_number % 50 == 0:\n",
    "            print('Batch: [' + str(batch_number) + '/' + str(len(eval_loader)) + ']')"
   ]
  },
  {
   "cell_type": "code",
   "execution_count": 53,
   "metadata": {},
   "outputs": [],
   "source": [
    "index = [i for i in range(len(predictions))]\n",
    "predictions = [int(p) for p in predictions]\n",
    "\n",
    "s1 = pd.core.series.Series(index)\n",
    "s2 = pd.core.series.Series(predictions)\n",
    "\n",
    "submission = pd.DataFrame(data=dict(index=index, category=predictions))"
   ]
  },
  {
   "cell_type": "code",
   "execution_count": 54,
   "metadata": {},
   "outputs": [
    {
     "name": "stdout",
     "output_type": "stream",
     "text": [
      "   index  category\n",
      "0      0         0\n",
      "1      1         2\n",
      "2      2         1\n",
      "3      3         0\n",
      "4      4         2\n"
     ]
    }
   ],
   "source": [
    "print(submission.head())"
   ]
  },
  {
   "cell_type": "code",
   "execution_count": 56,
   "metadata": {},
   "outputs": [],
   "source": [
    "submission.to_csv('submission.csv', index=False, header=True)"
   ]
  },
  {
   "cell_type": "markdown",
   "metadata": {},
   "source": [
    "# torchtext dataset"
   ]
  },
  {
   "cell_type": "code",
   "execution_count": null,
   "metadata": {},
   "outputs": [],
   "source": [
    "def new_tokenizer(sentence):\n",
    "    tokens = tokenizer.tokenize(sentence)\n",
    "    tokens = tokens[:max_input_length-2]\n",
    "    return tokens\n",
    "\n",
    "def PreProc(sentences):\n",
    "    return [tokenizer.convert_tokens_to_ids(x) for x in sentences]"
   ]
  },
  {
   "cell_type": "code",
   "execution_count": null,
   "metadata": {},
   "outputs": [],
   "source": [
    "#torchtext.data label 생성\n",
    "INDEX = torchtext.data.Field()\n",
    "TEXT = torchtext.data.Field(batch_first = True, \n",
    "                  use_vocab = False, \n",
    "                  #tokenize = new_tokenizer, \n",
    "                  #preprocessing = PreProc,\n",
    "                  init_token = '[CLS]',\n",
    "                  eos_token = '[SEP]',\n",
    "                  pad_token = '[PAD]',\n",
    "                  unk_token = '[UNK]')\n",
    "LABEL = torchtext.data.LabelField()"
   ]
  },
  {
   "cell_type": "code",
   "execution_count": null,
   "metadata": {},
   "outputs": [],
   "source": [
    "#torchtext.data dataset 획득\n",
    "test_data = data.TabularDataset(\n",
    "    path='./test.csv', format='csv',\n",
    "    fields=[('index', INDEX), ('data', TEXT)], skip_header=True)"
   ]
  },
  {
   "cell_type": "code",
   "execution_count": null,
   "metadata": {},
   "outputs": [],
   "source": [
    "#torchtext.data dataset 획득\n",
    "train_data = data.TabularDataset(\n",
    "    path='./train.csv', format='csv',\n",
    "    fields=[('index', INDEX), ('category', LABEL), ('data', TEXT)], skip_header=True)"
   ]
  },
  {
   "cell_type": "code",
   "execution_count": null,
   "metadata": {},
   "outputs": [],
   "source": [
    "print(vars(train_data[0]))"
   ]
  },
  {
   "cell_type": "markdown",
   "metadata": {},
   "source": [
    "# gluonnlp dataset"
   ]
  },
  {
   "cell_type": "code",
   "execution_count": null,
   "metadata": {},
   "outputs": [],
   "source": [
    "#gluonnlp dataset class\n",
    "class BERTDataset(Dataset):\n",
    "    def __init__(self, dataset, bert_tokenizer, pad, pair, max_len=512, hasLabel=True):\n",
    "        transform = gluonnlp.data.BERTSentenceTransform(\n",
    "            bert_tokenizer, max_seq_length=max_len, pad=pad, pair=pair)\n",
    "        \n",
    "        self.sentences = [transform([i[2]]) for i in dataset] #segment embedding 제외\n",
    "        if hasLabel:\n",
    "            self.labels = [[i[1]] for i in dataset]\n",
    "    \n",
    "    def __getitem__(self, i):\n",
    "        return self.sentences[i], self.labels[i]\n",
    "    \n",
    "    def __len__(self):\n",
    "        return len(self.sentences)"
   ]
  },
  {
   "cell_type": "code",
   "execution_count": null,
   "metadata": {},
   "outputs": [],
   "source": [
    "#gluonnlp dataset\n",
    "train_dataset = gluonnlp.data.TSVDataset('./train.csv', field_separator=gluonnlp.data.utils.Splitter(','), num_discard_samples=1)\n",
    "for i in train_dataset:\n",
    "    if len(i) < 2:\n",
    "        print(i)\n",
    "        \n",
    "train_dataset = BERTDataset(test_dataset, tokenizer, pad=True, pair=False, hasLabel=True)\n",
    "\n",
    "test_dataset = gluonnlp.data.TSVDataset('./test.csv', field_separator=gluonnlp.data.utils.Splitter(','), num_discard_samples=1)\n",
    "test_dataset = BERTDataset(test_dataset, tokenizer, pad=True, pair=False, hasLabel=False)"
   ]
  }
 ],
 "metadata": {
  "kernelspec": {
   "display_name": "Python 3",
   "language": "python",
   "name": "python3"
  },
  "language_info": {
   "codemirror_mode": {
    "name": "ipython",
    "version": 3
   },
   "file_extension": ".py",
   "mimetype": "text/x-python",
   "name": "python",
   "nbconvert_exporter": "python",
   "pygments_lexer": "ipython3",
   "version": "3.8.5"
  }
 },
 "nbformat": 4,
 "nbformat_minor": 4
}
